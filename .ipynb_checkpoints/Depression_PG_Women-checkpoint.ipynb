{
 "cells": [
  {
   "cell_type": "code",
   "execution_count": 1,
   "id": "6f077e6f",
   "metadata": {},
   "outputs": [],
   "source": [
    "import pandas as pd\n",
    "\n",
    "import warnings\n",
    "warnings.filterwarnings('ignore')"
   ]
  },
  {
   "cell_type": "code",
   "execution_count": 2,
   "id": "4a091142",
   "metadata": {},
   "outputs": [],
   "source": [
    "data = pd.read_csv(\"PG_Women.csv\")"
   ]
  },
  {
   "cell_type": "markdown",
   "id": "42ed3b6d",
   "metadata": {},
   "source": [
    "## Data Analyse"
   ]
  },
  {
   "cell_type": "code",
   "execution_count": 3,
   "id": "39c9404d",
   "metadata": {},
   "outputs": [
    {
     "data": {
      "text/html": [
       "<div>\n",
       "<style scoped>\n",
       "    .dataframe tbody tr th:only-of-type {\n",
       "        vertical-align: middle;\n",
       "    }\n",
       "\n",
       "    .dataframe tbody tr th {\n",
       "        vertical-align: top;\n",
       "    }\n",
       "\n",
       "    .dataframe thead th {\n",
       "        text-align: right;\n",
       "    }\n",
       "</style>\n",
       "<table border=\"1\" class=\"dataframe\">\n",
       "  <thead>\n",
       "    <tr style=\"text-align: right;\">\n",
       "      <th></th>\n",
       "      <th>Timestamp</th>\n",
       "      <th>Age</th>\n",
       "      <th>Feeling sad or Tearful</th>\n",
       "      <th>Irritable towards baby &amp; partner</th>\n",
       "      <th>Trouble sleeping at night</th>\n",
       "      <th>Problems concentrating or making decision</th>\n",
       "      <th>Overeating or loss of appetite</th>\n",
       "      <th>Feeling anxious</th>\n",
       "      <th>Feeling of guilt</th>\n",
       "      <th>Problems of bonding with baby</th>\n",
       "      <th>Suicide attempt</th>\n",
       "    </tr>\n",
       "  </thead>\n",
       "  <tbody>\n",
       "    <tr>\n",
       "      <th>0</th>\n",
       "      <td>6/14/2022 20:02</td>\n",
       "      <td>35-40</td>\n",
       "      <td>Yes</td>\n",
       "      <td>Yes</td>\n",
       "      <td>Two or more days a week</td>\n",
       "      <td>Yes</td>\n",
       "      <td>Yes</td>\n",
       "      <td>Yes</td>\n",
       "      <td>No</td>\n",
       "      <td>Yes</td>\n",
       "      <td>Yes</td>\n",
       "    </tr>\n",
       "    <tr>\n",
       "      <th>1</th>\n",
       "      <td>6/14/2022 20:03</td>\n",
       "      <td>40-45</td>\n",
       "      <td>Yes</td>\n",
       "      <td>No</td>\n",
       "      <td>No</td>\n",
       "      <td>Yes</td>\n",
       "      <td>Yes</td>\n",
       "      <td>No</td>\n",
       "      <td>Yes</td>\n",
       "      <td>Yes</td>\n",
       "      <td>No</td>\n",
       "    </tr>\n",
       "    <tr>\n",
       "      <th>2</th>\n",
       "      <td>6/14/2022 20:04</td>\n",
       "      <td>35-40</td>\n",
       "      <td>Yes</td>\n",
       "      <td>No</td>\n",
       "      <td>Yes</td>\n",
       "      <td>Yes</td>\n",
       "      <td>Yes</td>\n",
       "      <td>Yes</td>\n",
       "      <td>No</td>\n",
       "      <td>Sometimes</td>\n",
       "      <td>No</td>\n",
       "    </tr>\n",
       "    <tr>\n",
       "      <th>3</th>\n",
       "      <td>6/14/2022 20:05</td>\n",
       "      <td>35-40</td>\n",
       "      <td>Yes</td>\n",
       "      <td>Yes</td>\n",
       "      <td>Yes</td>\n",
       "      <td>Yes</td>\n",
       "      <td>No</td>\n",
       "      <td>Yes</td>\n",
       "      <td>Maybe</td>\n",
       "      <td>No</td>\n",
       "      <td>No</td>\n",
       "    </tr>\n",
       "    <tr>\n",
       "      <th>4</th>\n",
       "      <td>6/14/2022 20:06</td>\n",
       "      <td>40-45</td>\n",
       "      <td>Yes</td>\n",
       "      <td>No</td>\n",
       "      <td>Two or more days a week</td>\n",
       "      <td>Yes</td>\n",
       "      <td>No</td>\n",
       "      <td>Yes</td>\n",
       "      <td>No</td>\n",
       "      <td>Yes</td>\n",
       "      <td>No</td>\n",
       "    </tr>\n",
       "    <tr>\n",
       "      <th>...</th>\n",
       "      <td>...</td>\n",
       "      <td>...</td>\n",
       "      <td>...</td>\n",
       "      <td>...</td>\n",
       "      <td>...</td>\n",
       "      <td>...</td>\n",
       "      <td>...</td>\n",
       "      <td>...</td>\n",
       "      <td>...</td>\n",
       "      <td>...</td>\n",
       "      <td>...</td>\n",
       "    </tr>\n",
       "    <tr>\n",
       "      <th>1498</th>\n",
       "      <td>6/15/2022 0:35</td>\n",
       "      <td>30-35</td>\n",
       "      <td>Yes</td>\n",
       "      <td>No</td>\n",
       "      <td>Two or more days a week</td>\n",
       "      <td>No</td>\n",
       "      <td>No</td>\n",
       "      <td>Yes</td>\n",
       "      <td>Maybe</td>\n",
       "      <td>Sometimes</td>\n",
       "      <td>No</td>\n",
       "    </tr>\n",
       "    <tr>\n",
       "      <th>1499</th>\n",
       "      <td>6/15/2022 0:35</td>\n",
       "      <td>25-30</td>\n",
       "      <td>Sometimes</td>\n",
       "      <td>No</td>\n",
       "      <td>No</td>\n",
       "      <td>Often</td>\n",
       "      <td>No</td>\n",
       "      <td>Yes</td>\n",
       "      <td>Maybe</td>\n",
       "      <td>Yes</td>\n",
       "      <td>No</td>\n",
       "    </tr>\n",
       "    <tr>\n",
       "      <th>1500</th>\n",
       "      <td>6/15/2022 0:35</td>\n",
       "      <td>25-30</td>\n",
       "      <td>No</td>\n",
       "      <td>Sometimes</td>\n",
       "      <td>Two or more days a week</td>\n",
       "      <td>No</td>\n",
       "      <td>No</td>\n",
       "      <td>No</td>\n",
       "      <td>Yes</td>\n",
       "      <td>No</td>\n",
       "      <td>Not interested to say</td>\n",
       "    </tr>\n",
       "    <tr>\n",
       "      <th>1501</th>\n",
       "      <td>6/15/2022 0:36</td>\n",
       "      <td>25-30</td>\n",
       "      <td>No</td>\n",
       "      <td>Sometimes</td>\n",
       "      <td>Yes</td>\n",
       "      <td>Often</td>\n",
       "      <td>No</td>\n",
       "      <td>Yes</td>\n",
       "      <td>No</td>\n",
       "      <td>No</td>\n",
       "      <td>No</td>\n",
       "    </tr>\n",
       "    <tr>\n",
       "      <th>1502</th>\n",
       "      <td>6/15/2022 0:36</td>\n",
       "      <td>45-50</td>\n",
       "      <td>Sometimes</td>\n",
       "      <td>Sometimes</td>\n",
       "      <td>Two or more days a week</td>\n",
       "      <td>No</td>\n",
       "      <td>No</td>\n",
       "      <td>No</td>\n",
       "      <td>Maybe</td>\n",
       "      <td>No</td>\n",
       "      <td>No</td>\n",
       "    </tr>\n",
       "  </tbody>\n",
       "</table>\n",
       "<p>1503 rows × 11 columns</p>\n",
       "</div>"
      ],
      "text/plain": [
       "            Timestamp    Age Feeling sad or Tearful   \n",
       "0     6/14/2022 20:02  35-40                    Yes  \\\n",
       "1     6/14/2022 20:03  40-45                    Yes   \n",
       "2     6/14/2022 20:04  35-40                    Yes   \n",
       "3     6/14/2022 20:05  35-40                    Yes   \n",
       "4     6/14/2022 20:06  40-45                    Yes   \n",
       "...               ...    ...                    ...   \n",
       "1498   6/15/2022 0:35  30-35                    Yes   \n",
       "1499   6/15/2022 0:35  25-30              Sometimes   \n",
       "1500   6/15/2022 0:35  25-30                     No   \n",
       "1501   6/15/2022 0:36  25-30                     No   \n",
       "1502   6/15/2022 0:36  45-50              Sometimes   \n",
       "\n",
       "     Irritable towards baby & partner Trouble sleeping at night   \n",
       "0                                 Yes   Two or more days a week  \\\n",
       "1                                  No                        No   \n",
       "2                                  No                       Yes   \n",
       "3                                 Yes                       Yes   \n",
       "4                                  No   Two or more days a week   \n",
       "...                               ...                       ...   \n",
       "1498                               No   Two or more days a week   \n",
       "1499                               No                        No   \n",
       "1500                        Sometimes   Two or more days a week   \n",
       "1501                        Sometimes                       Yes   \n",
       "1502                        Sometimes   Two or more days a week   \n",
       "\n",
       "     Problems concentrating or making decision Overeating or loss of appetite   \n",
       "0                                          Yes                            Yes  \\\n",
       "1                                          Yes                            Yes   \n",
       "2                                          Yes                            Yes   \n",
       "3                                          Yes                             No   \n",
       "4                                          Yes                             No   \n",
       "...                                        ...                            ...   \n",
       "1498                                        No                             No   \n",
       "1499                                     Often                             No   \n",
       "1500                                        No                             No   \n",
       "1501                                     Often                             No   \n",
       "1502                                        No                             No   \n",
       "\n",
       "     Feeling anxious Feeling of guilt Problems of bonding with baby   \n",
       "0                Yes               No                           Yes  \\\n",
       "1                 No              Yes                           Yes   \n",
       "2                Yes               No                     Sometimes   \n",
       "3                Yes            Maybe                            No   \n",
       "4                Yes               No                           Yes   \n",
       "...              ...              ...                           ...   \n",
       "1498             Yes            Maybe                     Sometimes   \n",
       "1499             Yes            Maybe                           Yes   \n",
       "1500              No              Yes                            No   \n",
       "1501             Yes               No                            No   \n",
       "1502              No            Maybe                            No   \n",
       "\n",
       "            Suicide attempt  \n",
       "0                       Yes  \n",
       "1                        No  \n",
       "2                        No  \n",
       "3                        No  \n",
       "4                        No  \n",
       "...                     ...  \n",
       "1498                     No  \n",
       "1499                     No  \n",
       "1500  Not interested to say  \n",
       "1501                     No  \n",
       "1502                     No  \n",
       "\n",
       "[1503 rows x 11 columns]"
      ]
     },
     "execution_count": 3,
     "metadata": {},
     "output_type": "execute_result"
    }
   ],
   "source": [
    "data"
   ]
  },
  {
   "cell_type": "code",
   "execution_count": 4,
   "id": "aa4a0301",
   "metadata": {},
   "outputs": [
    {
     "data": {
      "text/html": [
       "<div>\n",
       "<style scoped>\n",
       "    .dataframe tbody tr th:only-of-type {\n",
       "        vertical-align: middle;\n",
       "    }\n",
       "\n",
       "    .dataframe tbody tr th {\n",
       "        vertical-align: top;\n",
       "    }\n",
       "\n",
       "    .dataframe thead th {\n",
       "        text-align: right;\n",
       "    }\n",
       "</style>\n",
       "<table border=\"1\" class=\"dataframe\">\n",
       "  <thead>\n",
       "    <tr style=\"text-align: right;\">\n",
       "      <th></th>\n",
       "      <th>Age</th>\n",
       "      <th>Feeling sad or Tearful</th>\n",
       "      <th>Irritable towards baby &amp; partner</th>\n",
       "      <th>Trouble sleeping at night</th>\n",
       "      <th>Problems concentrating or making decision</th>\n",
       "      <th>Overeating or loss of appetite</th>\n",
       "      <th>Feeling anxious</th>\n",
       "      <th>Feeling of guilt</th>\n",
       "      <th>Problems of bonding with baby</th>\n",
       "      <th>Suicide attempt</th>\n",
       "    </tr>\n",
       "  </thead>\n",
       "  <tbody>\n",
       "    <tr>\n",
       "      <th>0</th>\n",
       "      <td>35-40</td>\n",
       "      <td>Yes</td>\n",
       "      <td>Yes</td>\n",
       "      <td>Two or more days a week</td>\n",
       "      <td>Yes</td>\n",
       "      <td>Yes</td>\n",
       "      <td>Yes</td>\n",
       "      <td>No</td>\n",
       "      <td>Yes</td>\n",
       "      <td>Yes</td>\n",
       "    </tr>\n",
       "    <tr>\n",
       "      <th>1</th>\n",
       "      <td>40-45</td>\n",
       "      <td>Yes</td>\n",
       "      <td>No</td>\n",
       "      <td>No</td>\n",
       "      <td>Yes</td>\n",
       "      <td>Yes</td>\n",
       "      <td>No</td>\n",
       "      <td>Yes</td>\n",
       "      <td>Yes</td>\n",
       "      <td>No</td>\n",
       "    </tr>\n",
       "    <tr>\n",
       "      <th>2</th>\n",
       "      <td>35-40</td>\n",
       "      <td>Yes</td>\n",
       "      <td>No</td>\n",
       "      <td>Yes</td>\n",
       "      <td>Yes</td>\n",
       "      <td>Yes</td>\n",
       "      <td>Yes</td>\n",
       "      <td>No</td>\n",
       "      <td>Sometimes</td>\n",
       "      <td>No</td>\n",
       "    </tr>\n",
       "    <tr>\n",
       "      <th>3</th>\n",
       "      <td>35-40</td>\n",
       "      <td>Yes</td>\n",
       "      <td>Yes</td>\n",
       "      <td>Yes</td>\n",
       "      <td>Yes</td>\n",
       "      <td>No</td>\n",
       "      <td>Yes</td>\n",
       "      <td>Maybe</td>\n",
       "      <td>No</td>\n",
       "      <td>No</td>\n",
       "    </tr>\n",
       "    <tr>\n",
       "      <th>4</th>\n",
       "      <td>40-45</td>\n",
       "      <td>Yes</td>\n",
       "      <td>No</td>\n",
       "      <td>Two or more days a week</td>\n",
       "      <td>Yes</td>\n",
       "      <td>No</td>\n",
       "      <td>Yes</td>\n",
       "      <td>No</td>\n",
       "      <td>Yes</td>\n",
       "      <td>No</td>\n",
       "    </tr>\n",
       "    <tr>\n",
       "      <th>...</th>\n",
       "      <td>...</td>\n",
       "      <td>...</td>\n",
       "      <td>...</td>\n",
       "      <td>...</td>\n",
       "      <td>...</td>\n",
       "      <td>...</td>\n",
       "      <td>...</td>\n",
       "      <td>...</td>\n",
       "      <td>...</td>\n",
       "      <td>...</td>\n",
       "    </tr>\n",
       "    <tr>\n",
       "      <th>1498</th>\n",
       "      <td>30-35</td>\n",
       "      <td>Yes</td>\n",
       "      <td>No</td>\n",
       "      <td>Two or more days a week</td>\n",
       "      <td>No</td>\n",
       "      <td>No</td>\n",
       "      <td>Yes</td>\n",
       "      <td>Maybe</td>\n",
       "      <td>Sometimes</td>\n",
       "      <td>No</td>\n",
       "    </tr>\n",
       "    <tr>\n",
       "      <th>1499</th>\n",
       "      <td>25-30</td>\n",
       "      <td>Sometimes</td>\n",
       "      <td>No</td>\n",
       "      <td>No</td>\n",
       "      <td>Often</td>\n",
       "      <td>No</td>\n",
       "      <td>Yes</td>\n",
       "      <td>Maybe</td>\n",
       "      <td>Yes</td>\n",
       "      <td>No</td>\n",
       "    </tr>\n",
       "    <tr>\n",
       "      <th>1500</th>\n",
       "      <td>25-30</td>\n",
       "      <td>No</td>\n",
       "      <td>Sometimes</td>\n",
       "      <td>Two or more days a week</td>\n",
       "      <td>No</td>\n",
       "      <td>No</td>\n",
       "      <td>No</td>\n",
       "      <td>Yes</td>\n",
       "      <td>No</td>\n",
       "      <td>Not interested to say</td>\n",
       "    </tr>\n",
       "    <tr>\n",
       "      <th>1501</th>\n",
       "      <td>25-30</td>\n",
       "      <td>No</td>\n",
       "      <td>Sometimes</td>\n",
       "      <td>Yes</td>\n",
       "      <td>Often</td>\n",
       "      <td>No</td>\n",
       "      <td>Yes</td>\n",
       "      <td>No</td>\n",
       "      <td>No</td>\n",
       "      <td>No</td>\n",
       "    </tr>\n",
       "    <tr>\n",
       "      <th>1502</th>\n",
       "      <td>45-50</td>\n",
       "      <td>Sometimes</td>\n",
       "      <td>Sometimes</td>\n",
       "      <td>Two or more days a week</td>\n",
       "      <td>No</td>\n",
       "      <td>No</td>\n",
       "      <td>No</td>\n",
       "      <td>Maybe</td>\n",
       "      <td>No</td>\n",
       "      <td>No</td>\n",
       "    </tr>\n",
       "  </tbody>\n",
       "</table>\n",
       "<p>1503 rows × 10 columns</p>\n",
       "</div>"
      ],
      "text/plain": [
       "        Age Feeling sad or Tearful Irritable towards baby & partner   \n",
       "0     35-40                    Yes                              Yes  \\\n",
       "1     40-45                    Yes                               No   \n",
       "2     35-40                    Yes                               No   \n",
       "3     35-40                    Yes                              Yes   \n",
       "4     40-45                    Yes                               No   \n",
       "...     ...                    ...                              ...   \n",
       "1498  30-35                    Yes                               No   \n",
       "1499  25-30              Sometimes                               No   \n",
       "1500  25-30                     No                        Sometimes   \n",
       "1501  25-30                     No                        Sometimes   \n",
       "1502  45-50              Sometimes                        Sometimes   \n",
       "\n",
       "     Trouble sleeping at night Problems concentrating or making decision   \n",
       "0      Two or more days a week                                       Yes  \\\n",
       "1                           No                                       Yes   \n",
       "2                          Yes                                       Yes   \n",
       "3                          Yes                                       Yes   \n",
       "4      Two or more days a week                                       Yes   \n",
       "...                        ...                                       ...   \n",
       "1498   Two or more days a week                                        No   \n",
       "1499                        No                                     Often   \n",
       "1500   Two or more days a week                                        No   \n",
       "1501                       Yes                                     Often   \n",
       "1502   Two or more days a week                                        No   \n",
       "\n",
       "     Overeating or loss of appetite Feeling anxious Feeling of guilt   \n",
       "0                               Yes             Yes               No  \\\n",
       "1                               Yes              No              Yes   \n",
       "2                               Yes             Yes               No   \n",
       "3                                No             Yes            Maybe   \n",
       "4                                No             Yes               No   \n",
       "...                             ...             ...              ...   \n",
       "1498                             No             Yes            Maybe   \n",
       "1499                             No             Yes            Maybe   \n",
       "1500                             No              No              Yes   \n",
       "1501                             No             Yes               No   \n",
       "1502                             No              No            Maybe   \n",
       "\n",
       "     Problems of bonding with baby        Suicide attempt  \n",
       "0                              Yes                    Yes  \n",
       "1                              Yes                     No  \n",
       "2                        Sometimes                     No  \n",
       "3                               No                     No  \n",
       "4                              Yes                     No  \n",
       "...                            ...                    ...  \n",
       "1498                     Sometimes                     No  \n",
       "1499                           Yes                     No  \n",
       "1500                            No  Not interested to say  \n",
       "1501                            No                     No  \n",
       "1502                            No                     No  \n",
       "\n",
       "[1503 rows x 10 columns]"
      ]
     },
     "execution_count": 4,
     "metadata": {},
     "output_type": "execute_result"
    }
   ],
   "source": [
    "df = data.drop(\"Timestamp\",axis=1) #axis=1 means remove horizantally, axis=0 means opt perform vertically\n",
    "df"
   ]
  },
  {
   "cell_type": "code",
   "execution_count": 5,
   "id": "47c5c93d",
   "metadata": {},
   "outputs": [
    {
     "name": "stdout",
     "output_type": "stream",
     "text": [
      "<class 'pandas.core.frame.DataFrame'>\n",
      "RangeIndex: 1503 entries, 0 to 1502\n",
      "Data columns (total 10 columns):\n",
      " #   Column                                     Non-Null Count  Dtype \n",
      "---  ------                                     --------------  ----- \n",
      " 0   Age                                        1503 non-null   object\n",
      " 1   Feeling sad or Tearful                     1503 non-null   object\n",
      " 2   Irritable towards baby & partner           1497 non-null   object\n",
      " 3   Trouble sleeping at night                  1503 non-null   object\n",
      " 4   Problems concentrating or making decision  1491 non-null   object\n",
      " 5   Overeating or loss of appetite             1503 non-null   object\n",
      " 6   Feeling anxious                            1503 non-null   object\n",
      " 7   Feeling of guilt                           1494 non-null   object\n",
      " 8   Problems of bonding with baby              1503 non-null   object\n",
      " 9   Suicide attempt                            1503 non-null   object\n",
      "dtypes: object(10)\n",
      "memory usage: 117.5+ KB\n"
     ]
    }
   ],
   "source": [
    "df.info()"
   ]
  },
  {
   "cell_type": "code",
   "execution_count": 6,
   "id": "78ded74d",
   "metadata": {
    "scrolled": true
   },
   "outputs": [
    {
     "data": {
      "text/plain": [
       "Age                                          object\n",
       "Feeling sad or Tearful                       object\n",
       "Irritable towards baby & partner             object\n",
       "Trouble sleeping at night                    object\n",
       "Problems concentrating or making decision    object\n",
       "Overeating or loss of appetite               object\n",
       "Feeling anxious                              object\n",
       "Feeling of guilt                             object\n",
       "Problems of bonding with baby                object\n",
       "Suicide attempt                              object\n",
       "dtype: object"
      ]
     },
     "execution_count": 6,
     "metadata": {},
     "output_type": "execute_result"
    }
   ],
   "source": [
    "df.dtypes"
   ]
  },
  {
   "cell_type": "code",
   "execution_count": 7,
   "id": "56d5f872",
   "metadata": {},
   "outputs": [
    {
     "data": {
      "text/plain": [
       "(1503, 10)"
      ]
     },
     "execution_count": 7,
     "metadata": {},
     "output_type": "execute_result"
    }
   ],
   "source": [
    "df.shape"
   ]
  },
  {
   "cell_type": "markdown",
   "id": "668f0be1",
   "metadata": {},
   "source": [
    "## Data Pre-Processing"
   ]
  },
  {
   "cell_type": "code",
   "execution_count": 8,
   "id": "b45d02c2",
   "metadata": {},
   "outputs": [
    {
     "data": {
      "text/plain": [
       "Age                                          False\n",
       "Feeling sad or Tearful                       False\n",
       "Irritable towards baby & partner              True\n",
       "Trouble sleeping at night                    False\n",
       "Problems concentrating or making decision     True\n",
       "Overeating or loss of appetite               False\n",
       "Feeling anxious                              False\n",
       "Feeling of guilt                              True\n",
       "Problems of bonding with baby                False\n",
       "Suicide attempt                              False\n",
       "dtype: bool"
      ]
     },
     "execution_count": 8,
     "metadata": {},
     "output_type": "execute_result"
    }
   ],
   "source": [
    "df.isnull().any()"
   ]
  },
  {
   "cell_type": "code",
   "execution_count": 9,
   "id": "ede8a731",
   "metadata": {},
   "outputs": [
    {
     "data": {
      "text/html": [
       "<div>\n",
       "<style scoped>\n",
       "    .dataframe tbody tr th:only-of-type {\n",
       "        vertical-align: middle;\n",
       "    }\n",
       "\n",
       "    .dataframe tbody tr th {\n",
       "        vertical-align: top;\n",
       "    }\n",
       "\n",
       "    .dataframe thead th {\n",
       "        text-align: right;\n",
       "    }\n",
       "</style>\n",
       "<table border=\"1\" class=\"dataframe\">\n",
       "  <thead>\n",
       "    <tr style=\"text-align: right;\">\n",
       "      <th></th>\n",
       "      <th>Age</th>\n",
       "      <th>Feeling sad or Tearful</th>\n",
       "      <th>Irritable towards baby &amp; partner</th>\n",
       "      <th>Trouble sleeping at night</th>\n",
       "      <th>Problems concentrating or making decision</th>\n",
       "      <th>Overeating or loss of appetite</th>\n",
       "      <th>Feeling anxious</th>\n",
       "      <th>Feeling of guilt</th>\n",
       "      <th>Problems of bonding with baby</th>\n",
       "      <th>Suicide attempt</th>\n",
       "    </tr>\n",
       "  </thead>\n",
       "  <tbody>\n",
       "    <tr>\n",
       "      <th>262</th>\n",
       "      <td>35-40</td>\n",
       "      <td>Yes</td>\n",
       "      <td>NaN</td>\n",
       "      <td>Yes</td>\n",
       "      <td>NaN</td>\n",
       "      <td>Yes</td>\n",
       "      <td>Yes</td>\n",
       "      <td>NaN</td>\n",
       "      <td>No</td>\n",
       "      <td>No</td>\n",
       "    </tr>\n",
       "    <tr>\n",
       "      <th>263</th>\n",
       "      <td>40-45</td>\n",
       "      <td>Yes</td>\n",
       "      <td>NaN</td>\n",
       "      <td>No</td>\n",
       "      <td>NaN</td>\n",
       "      <td>No</td>\n",
       "      <td>Yes</td>\n",
       "      <td>NaN</td>\n",
       "      <td>Sometimes</td>\n",
       "      <td>No</td>\n",
       "    </tr>\n",
       "    <tr>\n",
       "      <th>723</th>\n",
       "      <td>35-40</td>\n",
       "      <td>Yes</td>\n",
       "      <td>NaN</td>\n",
       "      <td>Yes</td>\n",
       "      <td>NaN</td>\n",
       "      <td>Yes</td>\n",
       "      <td>Yes</td>\n",
       "      <td>NaN</td>\n",
       "      <td>No</td>\n",
       "      <td>No</td>\n",
       "    </tr>\n",
       "    <tr>\n",
       "      <th>724</th>\n",
       "      <td>40-45</td>\n",
       "      <td>Yes</td>\n",
       "      <td>NaN</td>\n",
       "      <td>No</td>\n",
       "      <td>NaN</td>\n",
       "      <td>No</td>\n",
       "      <td>Yes</td>\n",
       "      <td>NaN</td>\n",
       "      <td>Sometimes</td>\n",
       "      <td>No</td>\n",
       "    </tr>\n",
       "    <tr>\n",
       "      <th>1148</th>\n",
       "      <td>35-40</td>\n",
       "      <td>Yes</td>\n",
       "      <td>NaN</td>\n",
       "      <td>Yes</td>\n",
       "      <td>NaN</td>\n",
       "      <td>Yes</td>\n",
       "      <td>Yes</td>\n",
       "      <td>NaN</td>\n",
       "      <td>No</td>\n",
       "      <td>No</td>\n",
       "    </tr>\n",
       "    <tr>\n",
       "      <th>1149</th>\n",
       "      <td>40-45</td>\n",
       "      <td>Yes</td>\n",
       "      <td>NaN</td>\n",
       "      <td>No</td>\n",
       "      <td>NaN</td>\n",
       "      <td>No</td>\n",
       "      <td>Yes</td>\n",
       "      <td>NaN</td>\n",
       "      <td>Sometimes</td>\n",
       "      <td>No</td>\n",
       "    </tr>\n",
       "  </tbody>\n",
       "</table>\n",
       "</div>"
      ],
      "text/plain": [
       "        Age Feeling sad or Tearful Irritable towards baby & partner   \n",
       "262   35-40                    Yes                              NaN  \\\n",
       "263   40-45                    Yes                              NaN   \n",
       "723   35-40                    Yes                              NaN   \n",
       "724   40-45                    Yes                              NaN   \n",
       "1148  35-40                    Yes                              NaN   \n",
       "1149  40-45                    Yes                              NaN   \n",
       "\n",
       "     Trouble sleeping at night Problems concentrating or making decision   \n",
       "262                        Yes                                       NaN  \\\n",
       "263                         No                                       NaN   \n",
       "723                        Yes                                       NaN   \n",
       "724                         No                                       NaN   \n",
       "1148                       Yes                                       NaN   \n",
       "1149                        No                                       NaN   \n",
       "\n",
       "     Overeating or loss of appetite Feeling anxious Feeling of guilt   \n",
       "262                             Yes             Yes              NaN  \\\n",
       "263                              No             Yes              NaN   \n",
       "723                             Yes             Yes              NaN   \n",
       "724                              No             Yes              NaN   \n",
       "1148                            Yes             Yes              NaN   \n",
       "1149                             No             Yes              NaN   \n",
       "\n",
       "     Problems of bonding with baby Suicide attempt  \n",
       "262                             No              No  \n",
       "263                      Sometimes              No  \n",
       "723                             No              No  \n",
       "724                      Sometimes              No  \n",
       "1148                            No              No  \n",
       "1149                     Sometimes              No  "
      ]
     },
     "execution_count": 9,
     "metadata": {},
     "output_type": "execute_result"
    }
   ],
   "source": [
    "df[df['Irritable towards baby & partner'].isnull()]"
   ]
  },
  {
   "cell_type": "code",
   "execution_count": 10,
   "id": "56e843dc",
   "metadata": {},
   "outputs": [],
   "source": [
    "df.dropna(subset=['Irritable towards baby & partner'], inplace=True)"
   ]
  },
  {
   "cell_type": "code",
   "execution_count": 11,
   "id": "e26f722f",
   "metadata": {},
   "outputs": [
    {
     "data": {
      "text/plain": [
       "(1497, 10)"
      ]
     },
     "execution_count": 11,
     "metadata": {},
     "output_type": "execute_result"
    }
   ],
   "source": [
    "df.shape"
   ]
  },
  {
   "cell_type": "code",
   "execution_count": 12,
   "id": "5adcf056",
   "metadata": {},
   "outputs": [
    {
     "data": {
      "text/plain": [
       "Age                                          False\n",
       "Feeling sad or Tearful                       False\n",
       "Irritable towards baby & partner             False\n",
       "Trouble sleeping at night                    False\n",
       "Problems concentrating or making decision     True\n",
       "Overeating or loss of appetite               False\n",
       "Feeling anxious                              False\n",
       "Feeling of guilt                              True\n",
       "Problems of bonding with baby                False\n",
       "Suicide attempt                              False\n",
       "dtype: bool"
      ]
     },
     "execution_count": 12,
     "metadata": {},
     "output_type": "execute_result"
    }
   ],
   "source": [
    "df.isnull().any()"
   ]
  },
  {
   "cell_type": "code",
   "execution_count": 13,
   "id": "326c94b5",
   "metadata": {},
   "outputs": [],
   "source": [
    "df.dropna(subset=['Problems concentrating or making decision'], inplace=True)\n",
    "df.dropna(subset=['Feeling of guilt'], inplace=True)"
   ]
  },
  {
   "cell_type": "code",
   "execution_count": 14,
   "id": "42f9782f",
   "metadata": {},
   "outputs": [
    {
     "data": {
      "text/plain": [
       "(1491, 10)"
      ]
     },
     "execution_count": 14,
     "metadata": {},
     "output_type": "execute_result"
    }
   ],
   "source": [
    "df.shape"
   ]
  },
  {
   "cell_type": "code",
   "execution_count": 15,
   "id": "d24cef22",
   "metadata": {},
   "outputs": [
    {
     "data": {
      "text/plain": [
       "Age                                          False\n",
       "Feeling sad or Tearful                       False\n",
       "Irritable towards baby & partner             False\n",
       "Trouble sleeping at night                    False\n",
       "Problems concentrating or making decision    False\n",
       "Overeating or loss of appetite               False\n",
       "Feeling anxious                              False\n",
       "Feeling of guilt                             False\n",
       "Problems of bonding with baby                False\n",
       "Suicide attempt                              False\n",
       "dtype: bool"
      ]
     },
     "execution_count": 15,
     "metadata": {},
     "output_type": "execute_result"
    }
   ],
   "source": [
    "df.isnull().any()"
   ]
  },
  {
   "cell_type": "code",
   "execution_count": 16,
   "id": "8c67c005",
   "metadata": {
    "scrolled": true
   },
   "outputs": [
    {
     "data": {
      "text/plain": [
       "0       False\n",
       "1       False\n",
       "2       False\n",
       "3       False\n",
       "4       False\n",
       "        ...  \n",
       "1498     True\n",
       "1499     True\n",
       "1500     True\n",
       "1501     True\n",
       "1502     True\n",
       "Length: 1491, dtype: bool"
      ]
     },
     "execution_count": 16,
     "metadata": {},
     "output_type": "execute_result"
    }
   ],
   "source": [
    "df.duplicated()"
   ]
  },
  {
   "cell_type": "code",
   "execution_count": 17,
   "id": "d8b5bda9",
   "metadata": {},
   "outputs": [
    {
     "data": {
      "text/plain": [
       "(1491, 10)"
      ]
     },
     "execution_count": 17,
     "metadata": {},
     "output_type": "execute_result"
    }
   ],
   "source": [
    "df.shape"
   ]
  },
  {
   "cell_type": "code",
   "execution_count": 18,
   "id": "00405964",
   "metadata": {},
   "outputs": [
    {
     "data": {
      "text/html": [
       "<div>\n",
       "<style scoped>\n",
       "    .dataframe tbody tr th:only-of-type {\n",
       "        vertical-align: middle;\n",
       "    }\n",
       "\n",
       "    .dataframe tbody tr th {\n",
       "        vertical-align: top;\n",
       "    }\n",
       "\n",
       "    .dataframe thead th {\n",
       "        text-align: right;\n",
       "    }\n",
       "</style>\n",
       "<table border=\"1\" class=\"dataframe\">\n",
       "  <thead>\n",
       "    <tr style=\"text-align: right;\">\n",
       "      <th></th>\n",
       "      <th>Age</th>\n",
       "      <th>Feeling sad or Tearful</th>\n",
       "      <th>Irritable towards baby &amp; partner</th>\n",
       "      <th>Trouble sleeping at night</th>\n",
       "      <th>Problems concentrating or making decision</th>\n",
       "      <th>Overeating or loss of appetite</th>\n",
       "      <th>Feeling anxious</th>\n",
       "      <th>Feeling of guilt</th>\n",
       "      <th>Problems of bonding with baby</th>\n",
       "      <th>Suicide attempt</th>\n",
       "    </tr>\n",
       "  </thead>\n",
       "  <tbody>\n",
       "    <tr>\n",
       "      <th>0</th>\n",
       "      <td>35-40</td>\n",
       "      <td>Yes</td>\n",
       "      <td>Yes</td>\n",
       "      <td>Two or more days a week</td>\n",
       "      <td>Yes</td>\n",
       "      <td>Yes</td>\n",
       "      <td>Yes</td>\n",
       "      <td>No</td>\n",
       "      <td>Yes</td>\n",
       "      <td>Yes</td>\n",
       "    </tr>\n",
       "    <tr>\n",
       "      <th>1</th>\n",
       "      <td>40-45</td>\n",
       "      <td>Yes</td>\n",
       "      <td>No</td>\n",
       "      <td>No</td>\n",
       "      <td>Yes</td>\n",
       "      <td>Yes</td>\n",
       "      <td>No</td>\n",
       "      <td>Yes</td>\n",
       "      <td>Yes</td>\n",
       "      <td>No</td>\n",
       "    </tr>\n",
       "    <tr>\n",
       "      <th>2</th>\n",
       "      <td>35-40</td>\n",
       "      <td>Yes</td>\n",
       "      <td>No</td>\n",
       "      <td>Yes</td>\n",
       "      <td>Yes</td>\n",
       "      <td>Yes</td>\n",
       "      <td>Yes</td>\n",
       "      <td>No</td>\n",
       "      <td>Sometimes</td>\n",
       "      <td>No</td>\n",
       "    </tr>\n",
       "    <tr>\n",
       "      <th>3</th>\n",
       "      <td>35-40</td>\n",
       "      <td>Yes</td>\n",
       "      <td>Yes</td>\n",
       "      <td>Yes</td>\n",
       "      <td>Yes</td>\n",
       "      <td>No</td>\n",
       "      <td>Yes</td>\n",
       "      <td>Maybe</td>\n",
       "      <td>No</td>\n",
       "      <td>No</td>\n",
       "    </tr>\n",
       "    <tr>\n",
       "      <th>4</th>\n",
       "      <td>40-45</td>\n",
       "      <td>Yes</td>\n",
       "      <td>No</td>\n",
       "      <td>Two or more days a week</td>\n",
       "      <td>Yes</td>\n",
       "      <td>No</td>\n",
       "      <td>Yes</td>\n",
       "      <td>No</td>\n",
       "      <td>Yes</td>\n",
       "      <td>No</td>\n",
       "    </tr>\n",
       "  </tbody>\n",
       "</table>\n",
       "</div>"
      ],
      "text/plain": [
       "     Age Feeling sad or Tearful Irritable towards baby & partner   \n",
       "0  35-40                    Yes                              Yes  \\\n",
       "1  40-45                    Yes                               No   \n",
       "2  35-40                    Yes                               No   \n",
       "3  35-40                    Yes                              Yes   \n",
       "4  40-45                    Yes                               No   \n",
       "\n",
       "  Trouble sleeping at night Problems concentrating or making decision   \n",
       "0   Two or more days a week                                       Yes  \\\n",
       "1                        No                                       Yes   \n",
       "2                       Yes                                       Yes   \n",
       "3                       Yes                                       Yes   \n",
       "4   Two or more days a week                                       Yes   \n",
       "\n",
       "  Overeating or loss of appetite Feeling anxious Feeling of guilt   \n",
       "0                            Yes             Yes               No  \\\n",
       "1                            Yes              No              Yes   \n",
       "2                            Yes             Yes               No   \n",
       "3                             No             Yes            Maybe   \n",
       "4                             No             Yes               No   \n",
       "\n",
       "  Problems of bonding with baby Suicide attempt  \n",
       "0                           Yes             Yes  \n",
       "1                           Yes              No  \n",
       "2                     Sometimes              No  \n",
       "3                            No              No  \n",
       "4                           Yes              No  "
      ]
     },
     "execution_count": 18,
     "metadata": {},
     "output_type": "execute_result"
    }
   ],
   "source": [
    "df.head()"
   ]
  },
  {
   "cell_type": "code",
   "execution_count": 19,
   "id": "0eb8c1b9",
   "metadata": {},
   "outputs": [],
   "source": [
    "df = df.replace(to_replace=['Yes', 'No'], value=[1, 0])"
   ]
  },
  {
   "cell_type": "code",
   "execution_count": 20,
   "id": "ef30be6b",
   "metadata": {},
   "outputs": [
    {
     "data": {
      "text/html": [
       "<div>\n",
       "<style scoped>\n",
       "    .dataframe tbody tr th:only-of-type {\n",
       "        vertical-align: middle;\n",
       "    }\n",
       "\n",
       "    .dataframe tbody tr th {\n",
       "        vertical-align: top;\n",
       "    }\n",
       "\n",
       "    .dataframe thead th {\n",
       "        text-align: right;\n",
       "    }\n",
       "</style>\n",
       "<table border=\"1\" class=\"dataframe\">\n",
       "  <thead>\n",
       "    <tr style=\"text-align: right;\">\n",
       "      <th></th>\n",
       "      <th>Age</th>\n",
       "      <th>Feeling sad or Tearful</th>\n",
       "      <th>Irritable towards baby &amp; partner</th>\n",
       "      <th>Trouble sleeping at night</th>\n",
       "      <th>Problems concentrating or making decision</th>\n",
       "      <th>Overeating or loss of appetite</th>\n",
       "      <th>Feeling anxious</th>\n",
       "      <th>Feeling of guilt</th>\n",
       "      <th>Problems of bonding with baby</th>\n",
       "      <th>Suicide attempt</th>\n",
       "    </tr>\n",
       "  </thead>\n",
       "  <tbody>\n",
       "    <tr>\n",
       "      <th>0</th>\n",
       "      <td>35-40</td>\n",
       "      <td>1</td>\n",
       "      <td>1</td>\n",
       "      <td>Two or more days a week</td>\n",
       "      <td>1</td>\n",
       "      <td>1</td>\n",
       "      <td>1</td>\n",
       "      <td>0</td>\n",
       "      <td>1</td>\n",
       "      <td>1</td>\n",
       "    </tr>\n",
       "    <tr>\n",
       "      <th>1</th>\n",
       "      <td>40-45</td>\n",
       "      <td>1</td>\n",
       "      <td>0</td>\n",
       "      <td>0</td>\n",
       "      <td>1</td>\n",
       "      <td>1</td>\n",
       "      <td>0</td>\n",
       "      <td>1</td>\n",
       "      <td>1</td>\n",
       "      <td>0</td>\n",
       "    </tr>\n",
       "    <tr>\n",
       "      <th>2</th>\n",
       "      <td>35-40</td>\n",
       "      <td>1</td>\n",
       "      <td>0</td>\n",
       "      <td>1</td>\n",
       "      <td>1</td>\n",
       "      <td>1</td>\n",
       "      <td>1</td>\n",
       "      <td>0</td>\n",
       "      <td>Sometimes</td>\n",
       "      <td>0</td>\n",
       "    </tr>\n",
       "    <tr>\n",
       "      <th>3</th>\n",
       "      <td>35-40</td>\n",
       "      <td>1</td>\n",
       "      <td>1</td>\n",
       "      <td>1</td>\n",
       "      <td>1</td>\n",
       "      <td>0</td>\n",
       "      <td>1</td>\n",
       "      <td>Maybe</td>\n",
       "      <td>0</td>\n",
       "      <td>0</td>\n",
       "    </tr>\n",
       "    <tr>\n",
       "      <th>4</th>\n",
       "      <td>40-45</td>\n",
       "      <td>1</td>\n",
       "      <td>0</td>\n",
       "      <td>Two or more days a week</td>\n",
       "      <td>1</td>\n",
       "      <td>0</td>\n",
       "      <td>1</td>\n",
       "      <td>0</td>\n",
       "      <td>1</td>\n",
       "      <td>0</td>\n",
       "    </tr>\n",
       "    <tr>\n",
       "      <th>5</th>\n",
       "      <td>30-35</td>\n",
       "      <td>0</td>\n",
       "      <td>0</td>\n",
       "      <td>1</td>\n",
       "      <td>1</td>\n",
       "      <td>1</td>\n",
       "      <td>1</td>\n",
       "      <td>0</td>\n",
       "      <td>0</td>\n",
       "      <td>1</td>\n",
       "    </tr>\n",
       "    <tr>\n",
       "      <th>6</th>\n",
       "      <td>40-45</td>\n",
       "      <td>0</td>\n",
       "      <td>1</td>\n",
       "      <td>0</td>\n",
       "      <td>0</td>\n",
       "      <td>0</td>\n",
       "      <td>1</td>\n",
       "      <td>0</td>\n",
       "      <td>0</td>\n",
       "      <td>1</td>\n",
       "    </tr>\n",
       "    <tr>\n",
       "      <th>7</th>\n",
       "      <td>35-40</td>\n",
       "      <td>1</td>\n",
       "      <td>0</td>\n",
       "      <td>1</td>\n",
       "      <td>1</td>\n",
       "      <td>0</td>\n",
       "      <td>1</td>\n",
       "      <td>0</td>\n",
       "      <td>0</td>\n",
       "      <td>0</td>\n",
       "    </tr>\n",
       "    <tr>\n",
       "      <th>8</th>\n",
       "      <td>35-40</td>\n",
       "      <td>1</td>\n",
       "      <td>1</td>\n",
       "      <td>0</td>\n",
       "      <td>1</td>\n",
       "      <td>0</td>\n",
       "      <td>0</td>\n",
       "      <td>0</td>\n",
       "      <td>0</td>\n",
       "      <td>1</td>\n",
       "    </tr>\n",
       "    <tr>\n",
       "      <th>9</th>\n",
       "      <td>30-35</td>\n",
       "      <td>Sometimes</td>\n",
       "      <td>1</td>\n",
       "      <td>Two or more days a week</td>\n",
       "      <td>0</td>\n",
       "      <td>1</td>\n",
       "      <td>1</td>\n",
       "      <td>0</td>\n",
       "      <td>Sometimes</td>\n",
       "      <td>Not interested to say</td>\n",
       "    </tr>\n",
       "  </tbody>\n",
       "</table>\n",
       "</div>"
      ],
      "text/plain": [
       "     Age Feeling sad or Tearful Irritable towards baby & partner   \n",
       "0  35-40                      1                                1  \\\n",
       "1  40-45                      1                                0   \n",
       "2  35-40                      1                                0   \n",
       "3  35-40                      1                                1   \n",
       "4  40-45                      1                                0   \n",
       "5  30-35                      0                                0   \n",
       "6  40-45                      0                                1   \n",
       "7  35-40                      1                                0   \n",
       "8  35-40                      1                                1   \n",
       "9  30-35              Sometimes                                1   \n",
       "\n",
       "  Trouble sleeping at night Problems concentrating or making decision   \n",
       "0   Two or more days a week                                         1  \\\n",
       "1                         0                                         1   \n",
       "2                         1                                         1   \n",
       "3                         1                                         1   \n",
       "4   Two or more days a week                                         1   \n",
       "5                         1                                         1   \n",
       "6                         0                                         0   \n",
       "7                         1                                         1   \n",
       "8                         0                                         1   \n",
       "9   Two or more days a week                                         0   \n",
       "\n",
       "  Overeating or loss of appetite  Feeling anxious Feeling of guilt   \n",
       "0                              1                1                0  \\\n",
       "1                              1                0                1   \n",
       "2                              1                1                0   \n",
       "3                              0                1            Maybe   \n",
       "4                              0                1                0   \n",
       "5                              1                1                0   \n",
       "6                              0                1                0   \n",
       "7                              0                1                0   \n",
       "8                              0                0                0   \n",
       "9                              1                1                0   \n",
       "\n",
       "  Problems of bonding with baby        Suicide attempt  \n",
       "0                             1                      1  \n",
       "1                             1                      0  \n",
       "2                     Sometimes                      0  \n",
       "3                             0                      0  \n",
       "4                             1                      0  \n",
       "5                             0                      1  \n",
       "6                             0                      1  \n",
       "7                             0                      0  \n",
       "8                             0                      1  \n",
       "9                     Sometimes  Not interested to say  "
      ]
     },
     "execution_count": 20,
     "metadata": {},
     "output_type": "execute_result"
    }
   ],
   "source": [
    "df.head(10)"
   ]
  },
  {
   "cell_type": "code",
   "execution_count": 21,
   "id": "643fa4fa",
   "metadata": {},
   "outputs": [
    {
     "data": {
      "text/plain": [
       "array(['35-40', '40-45', '30-35', '45-50', '25-30'], dtype=object)"
      ]
     },
     "execution_count": 21,
     "metadata": {},
     "output_type": "execute_result"
    }
   ],
   "source": [
    "df['Age'].unique()"
   ]
  },
  {
   "cell_type": "code",
   "execution_count": 22,
   "id": "4033243b",
   "metadata": {},
   "outputs": [
    {
     "data": {
      "text/plain": [
       "array([1, 0, 'Sometimes'], dtype=object)"
      ]
     },
     "execution_count": 22,
     "metadata": {},
     "output_type": "execute_result"
    }
   ],
   "source": [
    "df['Feeling sad or Tearful'].unique()"
   ]
  },
  {
   "cell_type": "code",
   "execution_count": 23,
   "id": "00117813",
   "metadata": {},
   "outputs": [
    {
     "data": {
      "text/plain": [
       "array([1, 0, 'Sometimes'], dtype=object)"
      ]
     },
     "execution_count": 23,
     "metadata": {},
     "output_type": "execute_result"
    }
   ],
   "source": [
    "df['Irritable towards baby & partner'].unique()"
   ]
  },
  {
   "cell_type": "code",
   "execution_count": 24,
   "id": "59b12a6b",
   "metadata": {},
   "outputs": [
    {
     "data": {
      "text/plain": [
       "array(['Two or more days a week', 0, 1], dtype=object)"
      ]
     },
     "execution_count": 24,
     "metadata": {},
     "output_type": "execute_result"
    }
   ],
   "source": [
    "df['Trouble sleeping at night'].unique()"
   ]
  },
  {
   "cell_type": "code",
   "execution_count": 25,
   "id": "ae5ed2ec",
   "metadata": {},
   "outputs": [
    {
     "data": {
      "text/plain": [
       "array([1, 0, 'Often'], dtype=object)"
      ]
     },
     "execution_count": 25,
     "metadata": {},
     "output_type": "execute_result"
    }
   ],
   "source": [
    "df['Problems concentrating or making decision'].unique()"
   ]
  },
  {
   "cell_type": "code",
   "execution_count": 26,
   "id": "5311766b",
   "metadata": {},
   "outputs": [
    {
     "data": {
      "text/plain": [
       "array([1, 0, 'Not at all'], dtype=object)"
      ]
     },
     "execution_count": 26,
     "metadata": {},
     "output_type": "execute_result"
    }
   ],
   "source": [
    "df['Overeating or loss of appetite'].unique()"
   ]
  },
  {
   "cell_type": "code",
   "execution_count": 27,
   "id": "45b5779e",
   "metadata": {},
   "outputs": [
    {
     "data": {
      "text/plain": [
       "array([1, 0], dtype=int64)"
      ]
     },
     "execution_count": 27,
     "metadata": {},
     "output_type": "execute_result"
    }
   ],
   "source": [
    "df['Feeling anxious'].unique()"
   ]
  },
  {
   "cell_type": "code",
   "execution_count": 28,
   "id": "868f85dd",
   "metadata": {},
   "outputs": [
    {
     "data": {
      "text/plain": [
       "array([1, 'Sometimes', 0], dtype=object)"
      ]
     },
     "execution_count": 28,
     "metadata": {},
     "output_type": "execute_result"
    }
   ],
   "source": [
    "df['Problems of bonding with baby'].unique()"
   ]
  },
  {
   "cell_type": "code",
   "execution_count": 29,
   "id": "c2426581",
   "metadata": {},
   "outputs": [
    {
     "data": {
      "text/plain": [
       "array([0, 1, 'Maybe'], dtype=object)"
      ]
     },
     "execution_count": 29,
     "metadata": {},
     "output_type": "execute_result"
    }
   ],
   "source": [
    "df['Feeling of guilt'].unique()"
   ]
  },
  {
   "cell_type": "code",
   "execution_count": 30,
   "id": "1f120cae",
   "metadata": {},
   "outputs": [
    {
     "data": {
      "text/plain": [
       "array([1, 0, 'Not interested to say'], dtype=object)"
      ]
     },
     "execution_count": 30,
     "metadata": {},
     "output_type": "execute_result"
    }
   ],
   "source": [
    "df['Suicide attempt'].unique()"
   ]
  },
  {
   "cell_type": "code",
   "execution_count": 31,
   "id": "5030ee2a",
   "metadata": {},
   "outputs": [],
   "source": [
    "df = df.replace(to_replace=['35-40', '40-45', '30-35', '45-50','25-30'], value=[4,5,3,6,2])"
   ]
  },
  {
   "cell_type": "code",
   "execution_count": 32,
   "id": "cde7d3fc",
   "metadata": {},
   "outputs": [
    {
     "data": {
      "text/plain": [
       "array([4, 5, 3, 6, 2], dtype=int64)"
      ]
     },
     "execution_count": 32,
     "metadata": {},
     "output_type": "execute_result"
    }
   ],
   "source": [
    "df['Age'].unique()"
   ]
  },
  {
   "cell_type": "code",
   "execution_count": 33,
   "id": "a327491e",
   "metadata": {},
   "outputs": [],
   "source": [
    "df = df.replace(to_replace=['Sometimes','Often','Maybe'], value=(7))"
   ]
  },
  {
   "cell_type": "code",
   "execution_count": 34,
   "id": "91c81d14",
   "metadata": {},
   "outputs": [
    {
     "data": {
      "text/plain": [
       "array([1, 7, 0], dtype=int64)"
      ]
     },
     "execution_count": 34,
     "metadata": {},
     "output_type": "execute_result"
    }
   ],
   "source": [
    "df['Problems of bonding with baby'].unique()"
   ]
  },
  {
   "cell_type": "code",
   "execution_count": 35,
   "id": "e41bfa32",
   "metadata": {},
   "outputs": [
    {
     "data": {
      "text/plain": [
       "array([0, 1, 7], dtype=int64)"
      ]
     },
     "execution_count": 35,
     "metadata": {},
     "output_type": "execute_result"
    }
   ],
   "source": [
    "df['Feeling of guilt'].unique()"
   ]
  },
  {
   "cell_type": "code",
   "execution_count": 36,
   "id": "819ce824",
   "metadata": {},
   "outputs": [],
   "source": [
    "df = df.replace(to_replace=['Two or more days a week'], value=(8))"
   ]
  },
  {
   "cell_type": "code",
   "execution_count": 37,
   "id": "909a3c57",
   "metadata": {},
   "outputs": [],
   "source": [
    "df = df.replace(to_replace=['Not interested to say','Not at all'], value=(8))"
   ]
  },
  {
   "cell_type": "code",
   "execution_count": 38,
   "id": "6f9bdd54",
   "metadata": {},
   "outputs": [
    {
     "data": {
      "text/html": [
       "<div>\n",
       "<style scoped>\n",
       "    .dataframe tbody tr th:only-of-type {\n",
       "        vertical-align: middle;\n",
       "    }\n",
       "\n",
       "    .dataframe tbody tr th {\n",
       "        vertical-align: top;\n",
       "    }\n",
       "\n",
       "    .dataframe thead th {\n",
       "        text-align: right;\n",
       "    }\n",
       "</style>\n",
       "<table border=\"1\" class=\"dataframe\">\n",
       "  <thead>\n",
       "    <tr style=\"text-align: right;\">\n",
       "      <th></th>\n",
       "      <th>Age</th>\n",
       "      <th>Feeling sad or Tearful</th>\n",
       "      <th>Irritable towards baby &amp; partner</th>\n",
       "      <th>Trouble sleeping at night</th>\n",
       "      <th>Problems concentrating or making decision</th>\n",
       "      <th>Overeating or loss of appetite</th>\n",
       "      <th>Feeling anxious</th>\n",
       "      <th>Feeling of guilt</th>\n",
       "      <th>Problems of bonding with baby</th>\n",
       "      <th>Suicide attempt</th>\n",
       "    </tr>\n",
       "  </thead>\n",
       "  <tbody>\n",
       "    <tr>\n",
       "      <th>0</th>\n",
       "      <td>4</td>\n",
       "      <td>1</td>\n",
       "      <td>1</td>\n",
       "      <td>8</td>\n",
       "      <td>1</td>\n",
       "      <td>1</td>\n",
       "      <td>1</td>\n",
       "      <td>0</td>\n",
       "      <td>1</td>\n",
       "      <td>1</td>\n",
       "    </tr>\n",
       "    <tr>\n",
       "      <th>1</th>\n",
       "      <td>5</td>\n",
       "      <td>1</td>\n",
       "      <td>0</td>\n",
       "      <td>0</td>\n",
       "      <td>1</td>\n",
       "      <td>1</td>\n",
       "      <td>0</td>\n",
       "      <td>1</td>\n",
       "      <td>1</td>\n",
       "      <td>0</td>\n",
       "    </tr>\n",
       "    <tr>\n",
       "      <th>2</th>\n",
       "      <td>4</td>\n",
       "      <td>1</td>\n",
       "      <td>0</td>\n",
       "      <td>1</td>\n",
       "      <td>1</td>\n",
       "      <td>1</td>\n",
       "      <td>1</td>\n",
       "      <td>0</td>\n",
       "      <td>7</td>\n",
       "      <td>0</td>\n",
       "    </tr>\n",
       "    <tr>\n",
       "      <th>3</th>\n",
       "      <td>4</td>\n",
       "      <td>1</td>\n",
       "      <td>1</td>\n",
       "      <td>1</td>\n",
       "      <td>1</td>\n",
       "      <td>0</td>\n",
       "      <td>1</td>\n",
       "      <td>7</td>\n",
       "      <td>0</td>\n",
       "      <td>0</td>\n",
       "    </tr>\n",
       "    <tr>\n",
       "      <th>4</th>\n",
       "      <td>5</td>\n",
       "      <td>1</td>\n",
       "      <td>0</td>\n",
       "      <td>8</td>\n",
       "      <td>1</td>\n",
       "      <td>0</td>\n",
       "      <td>1</td>\n",
       "      <td>0</td>\n",
       "      <td>1</td>\n",
       "      <td>0</td>\n",
       "    </tr>\n",
       "    <tr>\n",
       "      <th>...</th>\n",
       "      <td>...</td>\n",
       "      <td>...</td>\n",
       "      <td>...</td>\n",
       "      <td>...</td>\n",
       "      <td>...</td>\n",
       "      <td>...</td>\n",
       "      <td>...</td>\n",
       "      <td>...</td>\n",
       "      <td>...</td>\n",
       "      <td>...</td>\n",
       "    </tr>\n",
       "    <tr>\n",
       "      <th>1498</th>\n",
       "      <td>3</td>\n",
       "      <td>1</td>\n",
       "      <td>0</td>\n",
       "      <td>8</td>\n",
       "      <td>0</td>\n",
       "      <td>0</td>\n",
       "      <td>1</td>\n",
       "      <td>7</td>\n",
       "      <td>7</td>\n",
       "      <td>0</td>\n",
       "    </tr>\n",
       "    <tr>\n",
       "      <th>1499</th>\n",
       "      <td>2</td>\n",
       "      <td>7</td>\n",
       "      <td>0</td>\n",
       "      <td>0</td>\n",
       "      <td>7</td>\n",
       "      <td>0</td>\n",
       "      <td>1</td>\n",
       "      <td>7</td>\n",
       "      <td>1</td>\n",
       "      <td>0</td>\n",
       "    </tr>\n",
       "    <tr>\n",
       "      <th>1500</th>\n",
       "      <td>2</td>\n",
       "      <td>0</td>\n",
       "      <td>7</td>\n",
       "      <td>8</td>\n",
       "      <td>0</td>\n",
       "      <td>0</td>\n",
       "      <td>0</td>\n",
       "      <td>1</td>\n",
       "      <td>0</td>\n",
       "      <td>8</td>\n",
       "    </tr>\n",
       "    <tr>\n",
       "      <th>1501</th>\n",
       "      <td>2</td>\n",
       "      <td>0</td>\n",
       "      <td>7</td>\n",
       "      <td>1</td>\n",
       "      <td>7</td>\n",
       "      <td>0</td>\n",
       "      <td>1</td>\n",
       "      <td>0</td>\n",
       "      <td>0</td>\n",
       "      <td>0</td>\n",
       "    </tr>\n",
       "    <tr>\n",
       "      <th>1502</th>\n",
       "      <td>6</td>\n",
       "      <td>7</td>\n",
       "      <td>7</td>\n",
       "      <td>8</td>\n",
       "      <td>0</td>\n",
       "      <td>0</td>\n",
       "      <td>0</td>\n",
       "      <td>7</td>\n",
       "      <td>0</td>\n",
       "      <td>0</td>\n",
       "    </tr>\n",
       "  </tbody>\n",
       "</table>\n",
       "<p>1491 rows × 10 columns</p>\n",
       "</div>"
      ],
      "text/plain": [
       "      Age  Feeling sad or Tearful  Irritable towards baby & partner   \n",
       "0       4                       1                                 1  \\\n",
       "1       5                       1                                 0   \n",
       "2       4                       1                                 0   \n",
       "3       4                       1                                 1   \n",
       "4       5                       1                                 0   \n",
       "...   ...                     ...                               ...   \n",
       "1498    3                       1                                 0   \n",
       "1499    2                       7                                 0   \n",
       "1500    2                       0                                 7   \n",
       "1501    2                       0                                 7   \n",
       "1502    6                       7                                 7   \n",
       "\n",
       "      Trouble sleeping at night  Problems concentrating or making decision   \n",
       "0                             8                                          1  \\\n",
       "1                             0                                          1   \n",
       "2                             1                                          1   \n",
       "3                             1                                          1   \n",
       "4                             8                                          1   \n",
       "...                         ...                                        ...   \n",
       "1498                          8                                          0   \n",
       "1499                          0                                          7   \n",
       "1500                          8                                          0   \n",
       "1501                          1                                          7   \n",
       "1502                          8                                          0   \n",
       "\n",
       "      Overeating or loss of appetite  Feeling anxious  Feeling of guilt   \n",
       "0                                  1                1                 0  \\\n",
       "1                                  1                0                 1   \n",
       "2                                  1                1                 0   \n",
       "3                                  0                1                 7   \n",
       "4                                  0                1                 0   \n",
       "...                              ...              ...               ...   \n",
       "1498                               0                1                 7   \n",
       "1499                               0                1                 7   \n",
       "1500                               0                0                 1   \n",
       "1501                               0                1                 0   \n",
       "1502                               0                0                 7   \n",
       "\n",
       "      Problems of bonding with baby  Suicide attempt  \n",
       "0                                 1                1  \n",
       "1                                 1                0  \n",
       "2                                 7                0  \n",
       "3                                 0                0  \n",
       "4                                 1                0  \n",
       "...                             ...              ...  \n",
       "1498                              7                0  \n",
       "1499                              1                0  \n",
       "1500                              0                8  \n",
       "1501                              0                0  \n",
       "1502                              0                0  \n",
       "\n",
       "[1491 rows x 10 columns]"
      ]
     },
     "execution_count": 38,
     "metadata": {},
     "output_type": "execute_result"
    }
   ],
   "source": [
    "df"
   ]
  },
  {
   "cell_type": "markdown",
   "id": "f0432539",
   "metadata": {},
   "source": [
    "## Data Validation"
   ]
  },
  {
   "cell_type": "code",
   "execution_count": 39,
   "id": "4e4acf2f",
   "metadata": {},
   "outputs": [
    {
     "data": {
      "text/plain": [
       "0       1\n",
       "1       0\n",
       "2       1\n",
       "3       1\n",
       "4       1\n",
       "       ..\n",
       "1498    1\n",
       "1499    1\n",
       "1500    0\n",
       "1501    1\n",
       "1502    0\n",
       "Name: Feeling anxious, Length: 1491, dtype: int64"
      ]
     },
     "execution_count": 39,
     "metadata": {},
     "output_type": "execute_result"
    }
   ],
   "source": [
    "y = df['Feeling anxious']\n",
    "y"
   ]
  },
  {
   "cell_type": "code",
   "execution_count": 40,
   "id": "2ddd4d33",
   "metadata": {},
   "outputs": [
    {
     "data": {
      "text/html": [
       "<div>\n",
       "<style scoped>\n",
       "    .dataframe tbody tr th:only-of-type {\n",
       "        vertical-align: middle;\n",
       "    }\n",
       "\n",
       "    .dataframe tbody tr th {\n",
       "        vertical-align: top;\n",
       "    }\n",
       "\n",
       "    .dataframe thead th {\n",
       "        text-align: right;\n",
       "    }\n",
       "</style>\n",
       "<table border=\"1\" class=\"dataframe\">\n",
       "  <thead>\n",
       "    <tr style=\"text-align: right;\">\n",
       "      <th></th>\n",
       "      <th>Age</th>\n",
       "      <th>Feeling sad or Tearful</th>\n",
       "      <th>Irritable towards baby &amp; partner</th>\n",
       "      <th>Trouble sleeping at night</th>\n",
       "      <th>Problems concentrating or making decision</th>\n",
       "      <th>Overeating or loss of appetite</th>\n",
       "      <th>Feeling of guilt</th>\n",
       "      <th>Problems of bonding with baby</th>\n",
       "      <th>Suicide attempt</th>\n",
       "    </tr>\n",
       "  </thead>\n",
       "  <tbody>\n",
       "    <tr>\n",
       "      <th>0</th>\n",
       "      <td>4</td>\n",
       "      <td>1</td>\n",
       "      <td>1</td>\n",
       "      <td>8</td>\n",
       "      <td>1</td>\n",
       "      <td>1</td>\n",
       "      <td>0</td>\n",
       "      <td>1</td>\n",
       "      <td>1</td>\n",
       "    </tr>\n",
       "    <tr>\n",
       "      <th>1</th>\n",
       "      <td>5</td>\n",
       "      <td>1</td>\n",
       "      <td>0</td>\n",
       "      <td>0</td>\n",
       "      <td>1</td>\n",
       "      <td>1</td>\n",
       "      <td>1</td>\n",
       "      <td>1</td>\n",
       "      <td>0</td>\n",
       "    </tr>\n",
       "    <tr>\n",
       "      <th>2</th>\n",
       "      <td>4</td>\n",
       "      <td>1</td>\n",
       "      <td>0</td>\n",
       "      <td>1</td>\n",
       "      <td>1</td>\n",
       "      <td>1</td>\n",
       "      <td>0</td>\n",
       "      <td>7</td>\n",
       "      <td>0</td>\n",
       "    </tr>\n",
       "    <tr>\n",
       "      <th>3</th>\n",
       "      <td>4</td>\n",
       "      <td>1</td>\n",
       "      <td>1</td>\n",
       "      <td>1</td>\n",
       "      <td>1</td>\n",
       "      <td>0</td>\n",
       "      <td>7</td>\n",
       "      <td>0</td>\n",
       "      <td>0</td>\n",
       "    </tr>\n",
       "    <tr>\n",
       "      <th>4</th>\n",
       "      <td>5</td>\n",
       "      <td>1</td>\n",
       "      <td>0</td>\n",
       "      <td>8</td>\n",
       "      <td>1</td>\n",
       "      <td>0</td>\n",
       "      <td>0</td>\n",
       "      <td>1</td>\n",
       "      <td>0</td>\n",
       "    </tr>\n",
       "    <tr>\n",
       "      <th>...</th>\n",
       "      <td>...</td>\n",
       "      <td>...</td>\n",
       "      <td>...</td>\n",
       "      <td>...</td>\n",
       "      <td>...</td>\n",
       "      <td>...</td>\n",
       "      <td>...</td>\n",
       "      <td>...</td>\n",
       "      <td>...</td>\n",
       "    </tr>\n",
       "    <tr>\n",
       "      <th>1498</th>\n",
       "      <td>3</td>\n",
       "      <td>1</td>\n",
       "      <td>0</td>\n",
       "      <td>8</td>\n",
       "      <td>0</td>\n",
       "      <td>0</td>\n",
       "      <td>7</td>\n",
       "      <td>7</td>\n",
       "      <td>0</td>\n",
       "    </tr>\n",
       "    <tr>\n",
       "      <th>1499</th>\n",
       "      <td>2</td>\n",
       "      <td>7</td>\n",
       "      <td>0</td>\n",
       "      <td>0</td>\n",
       "      <td>7</td>\n",
       "      <td>0</td>\n",
       "      <td>7</td>\n",
       "      <td>1</td>\n",
       "      <td>0</td>\n",
       "    </tr>\n",
       "    <tr>\n",
       "      <th>1500</th>\n",
       "      <td>2</td>\n",
       "      <td>0</td>\n",
       "      <td>7</td>\n",
       "      <td>8</td>\n",
       "      <td>0</td>\n",
       "      <td>0</td>\n",
       "      <td>1</td>\n",
       "      <td>0</td>\n",
       "      <td>8</td>\n",
       "    </tr>\n",
       "    <tr>\n",
       "      <th>1501</th>\n",
       "      <td>2</td>\n",
       "      <td>0</td>\n",
       "      <td>7</td>\n",
       "      <td>1</td>\n",
       "      <td>7</td>\n",
       "      <td>0</td>\n",
       "      <td>0</td>\n",
       "      <td>0</td>\n",
       "      <td>0</td>\n",
       "    </tr>\n",
       "    <tr>\n",
       "      <th>1502</th>\n",
       "      <td>6</td>\n",
       "      <td>7</td>\n",
       "      <td>7</td>\n",
       "      <td>8</td>\n",
       "      <td>0</td>\n",
       "      <td>0</td>\n",
       "      <td>7</td>\n",
       "      <td>0</td>\n",
       "      <td>0</td>\n",
       "    </tr>\n",
       "  </tbody>\n",
       "</table>\n",
       "<p>1491 rows × 9 columns</p>\n",
       "</div>"
      ],
      "text/plain": [
       "      Age  Feeling sad or Tearful  Irritable towards baby & partner   \n",
       "0       4                       1                                 1  \\\n",
       "1       5                       1                                 0   \n",
       "2       4                       1                                 0   \n",
       "3       4                       1                                 1   \n",
       "4       5                       1                                 0   \n",
       "...   ...                     ...                               ...   \n",
       "1498    3                       1                                 0   \n",
       "1499    2                       7                                 0   \n",
       "1500    2                       0                                 7   \n",
       "1501    2                       0                                 7   \n",
       "1502    6                       7                                 7   \n",
       "\n",
       "      Trouble sleeping at night  Problems concentrating or making decision   \n",
       "0                             8                                          1  \\\n",
       "1                             0                                          1   \n",
       "2                             1                                          1   \n",
       "3                             1                                          1   \n",
       "4                             8                                          1   \n",
       "...                         ...                                        ...   \n",
       "1498                          8                                          0   \n",
       "1499                          0                                          7   \n",
       "1500                          8                                          0   \n",
       "1501                          1                                          7   \n",
       "1502                          8                                          0   \n",
       "\n",
       "      Overeating or loss of appetite  Feeling of guilt   \n",
       "0                                  1                 0  \\\n",
       "1                                  1                 1   \n",
       "2                                  1                 0   \n",
       "3                                  0                 7   \n",
       "4                                  0                 0   \n",
       "...                              ...               ...   \n",
       "1498                               0                 7   \n",
       "1499                               0                 7   \n",
       "1500                               0                 1   \n",
       "1501                               0                 0   \n",
       "1502                               0                 7   \n",
       "\n",
       "      Problems of bonding with baby  Suicide attempt  \n",
       "0                                 1                1  \n",
       "1                                 1                0  \n",
       "2                                 7                0  \n",
       "3                                 0                0  \n",
       "4                                 1                0  \n",
       "...                             ...              ...  \n",
       "1498                              7                0  \n",
       "1499                              1                0  \n",
       "1500                              0                8  \n",
       "1501                              0                0  \n",
       "1502                              0                0  \n",
       "\n",
       "[1491 rows x 9 columns]"
      ]
     },
     "execution_count": 40,
     "metadata": {},
     "output_type": "execute_result"
    }
   ],
   "source": [
    "x = df.drop(['Feeling anxious'],axis=1)\n",
    "x"
   ]
  },
  {
   "cell_type": "code",
   "execution_count": 41,
   "id": "6f6606e2",
   "metadata": {},
   "outputs": [],
   "source": [
    "from sklearn.model_selection import train_test_split\n",
    "\n",
    "x_train,x_test,y_train,y_test=train_test_split(x,y,test_size=0.2,random_state=0)"
   ]
  },
  {
   "cell_type": "code",
   "execution_count": 42,
   "id": "e8d67284",
   "metadata": {},
   "outputs": [
    {
     "data": {
      "text/html": [
       "<div>\n",
       "<style scoped>\n",
       "    .dataframe tbody tr th:only-of-type {\n",
       "        vertical-align: middle;\n",
       "    }\n",
       "\n",
       "    .dataframe tbody tr th {\n",
       "        vertical-align: top;\n",
       "    }\n",
       "\n",
       "    .dataframe thead th {\n",
       "        text-align: right;\n",
       "    }\n",
       "</style>\n",
       "<table border=\"1\" class=\"dataframe\">\n",
       "  <thead>\n",
       "    <tr style=\"text-align: right;\">\n",
       "      <th></th>\n",
       "      <th>Age</th>\n",
       "      <th>Feeling sad or Tearful</th>\n",
       "      <th>Irritable towards baby &amp; partner</th>\n",
       "      <th>Trouble sleeping at night</th>\n",
       "      <th>Problems concentrating or making decision</th>\n",
       "      <th>Overeating or loss of appetite</th>\n",
       "      <th>Feeling of guilt</th>\n",
       "      <th>Problems of bonding with baby</th>\n",
       "      <th>Suicide attempt</th>\n",
       "    </tr>\n",
       "  </thead>\n",
       "  <tbody>\n",
       "    <tr>\n",
       "      <th>1485</th>\n",
       "      <td>3</td>\n",
       "      <td>7</td>\n",
       "      <td>1</td>\n",
       "      <td>0</td>\n",
       "      <td>7</td>\n",
       "      <td>8</td>\n",
       "      <td>0</td>\n",
       "      <td>7</td>\n",
       "      <td>0</td>\n",
       "    </tr>\n",
       "    <tr>\n",
       "      <th>686</th>\n",
       "      <td>2</td>\n",
       "      <td>7</td>\n",
       "      <td>1</td>\n",
       "      <td>8</td>\n",
       "      <td>1</td>\n",
       "      <td>1</td>\n",
       "      <td>7</td>\n",
       "      <td>1</td>\n",
       "      <td>0</td>\n",
       "    </tr>\n",
       "    <tr>\n",
       "      <th>906</th>\n",
       "      <td>2</td>\n",
       "      <td>0</td>\n",
       "      <td>7</td>\n",
       "      <td>8</td>\n",
       "      <td>0</td>\n",
       "      <td>0</td>\n",
       "      <td>1</td>\n",
       "      <td>0</td>\n",
       "      <td>8</td>\n",
       "    </tr>\n",
       "    <tr>\n",
       "      <th>683</th>\n",
       "      <td>3</td>\n",
       "      <td>1</td>\n",
       "      <td>1</td>\n",
       "      <td>0</td>\n",
       "      <td>1</td>\n",
       "      <td>0</td>\n",
       "      <td>7</td>\n",
       "      <td>0</td>\n",
       "      <td>8</td>\n",
       "    </tr>\n",
       "    <tr>\n",
       "      <th>1178</th>\n",
       "      <td>4</td>\n",
       "      <td>1</td>\n",
       "      <td>7</td>\n",
       "      <td>1</td>\n",
       "      <td>1</td>\n",
       "      <td>1</td>\n",
       "      <td>7</td>\n",
       "      <td>7</td>\n",
       "      <td>1</td>\n",
       "    </tr>\n",
       "    <tr>\n",
       "      <th>...</th>\n",
       "      <td>...</td>\n",
       "      <td>...</td>\n",
       "      <td>...</td>\n",
       "      <td>...</td>\n",
       "      <td>...</td>\n",
       "      <td>...</td>\n",
       "      <td>...</td>\n",
       "      <td>...</td>\n",
       "      <td>...</td>\n",
       "    </tr>\n",
       "    <tr>\n",
       "      <th>771</th>\n",
       "      <td>6</td>\n",
       "      <td>1</td>\n",
       "      <td>0</td>\n",
       "      <td>8</td>\n",
       "      <td>0</td>\n",
       "      <td>0</td>\n",
       "      <td>7</td>\n",
       "      <td>7</td>\n",
       "      <td>0</td>\n",
       "    </tr>\n",
       "    <tr>\n",
       "      <th>843</th>\n",
       "      <td>4</td>\n",
       "      <td>1</td>\n",
       "      <td>7</td>\n",
       "      <td>1</td>\n",
       "      <td>1</td>\n",
       "      <td>1</td>\n",
       "      <td>7</td>\n",
       "      <td>7</td>\n",
       "      <td>1</td>\n",
       "    </tr>\n",
       "    <tr>\n",
       "      <th>1228</th>\n",
       "      <td>3</td>\n",
       "      <td>1</td>\n",
       "      <td>0</td>\n",
       "      <td>8</td>\n",
       "      <td>0</td>\n",
       "      <td>0</td>\n",
       "      <td>7</td>\n",
       "      <td>7</td>\n",
       "      <td>0</td>\n",
       "    </tr>\n",
       "    <tr>\n",
       "      <th>563</th>\n",
       "      <td>3</td>\n",
       "      <td>1</td>\n",
       "      <td>7</td>\n",
       "      <td>1</td>\n",
       "      <td>0</td>\n",
       "      <td>1</td>\n",
       "      <td>1</td>\n",
       "      <td>1</td>\n",
       "      <td>0</td>\n",
       "    </tr>\n",
       "    <tr>\n",
       "      <th>688</th>\n",
       "      <td>4</td>\n",
       "      <td>0</td>\n",
       "      <td>7</td>\n",
       "      <td>1</td>\n",
       "      <td>0</td>\n",
       "      <td>8</td>\n",
       "      <td>0</td>\n",
       "      <td>7</td>\n",
       "      <td>0</td>\n",
       "    </tr>\n",
       "  </tbody>\n",
       "</table>\n",
       "<p>1192 rows × 9 columns</p>\n",
       "</div>"
      ],
      "text/plain": [
       "      Age  Feeling sad or Tearful  Irritable towards baby & partner   \n",
       "1485    3                       7                                 1  \\\n",
       "686     2                       7                                 1   \n",
       "906     2                       0                                 7   \n",
       "683     3                       1                                 1   \n",
       "1178    4                       1                                 7   \n",
       "...   ...                     ...                               ...   \n",
       "771     6                       1                                 0   \n",
       "843     4                       1                                 7   \n",
       "1228    3                       1                                 0   \n",
       "563     3                       1                                 7   \n",
       "688     4                       0                                 7   \n",
       "\n",
       "      Trouble sleeping at night  Problems concentrating or making decision   \n",
       "1485                          0                                          7  \\\n",
       "686                           8                                          1   \n",
       "906                           8                                          0   \n",
       "683                           0                                          1   \n",
       "1178                          1                                          1   \n",
       "...                         ...                                        ...   \n",
       "771                           8                                          0   \n",
       "843                           1                                          1   \n",
       "1228                          8                                          0   \n",
       "563                           1                                          0   \n",
       "688                           1                                          0   \n",
       "\n",
       "      Overeating or loss of appetite  Feeling of guilt   \n",
       "1485                               8                 0  \\\n",
       "686                                1                 7   \n",
       "906                                0                 1   \n",
       "683                                0                 7   \n",
       "1178                               1                 7   \n",
       "...                              ...               ...   \n",
       "771                                0                 7   \n",
       "843                                1                 7   \n",
       "1228                               0                 7   \n",
       "563                                1                 1   \n",
       "688                                8                 0   \n",
       "\n",
       "      Problems of bonding with baby  Suicide attempt  \n",
       "1485                              7                0  \n",
       "686                               1                0  \n",
       "906                               0                8  \n",
       "683                               0                8  \n",
       "1178                              7                1  \n",
       "...                             ...              ...  \n",
       "771                               7                0  \n",
       "843                               7                1  \n",
       "1228                              7                0  \n",
       "563                               1                0  \n",
       "688                               7                0  \n",
       "\n",
       "[1192 rows x 9 columns]"
      ]
     },
     "execution_count": 42,
     "metadata": {},
     "output_type": "execute_result"
    }
   ],
   "source": [
    "x_train"
   ]
  },
  {
   "cell_type": "code",
   "execution_count": 43,
   "id": "26d80ba4",
   "metadata": {},
   "outputs": [],
   "source": [
    "from sklearn.ensemble import RandomForestClassifier\n",
    "\n",
    "classifier = RandomForestClassifier(n_estimators=100,random_state=0)"
   ]
  },
  {
   "cell_type": "code",
   "execution_count": 44,
   "id": "f67c7873",
   "metadata": {},
   "outputs": [
    {
     "data": {
      "text/plain": [
       "RandomForestClassifier(bootstrap=True, ccp_alpha=0.0, class_weight=None,\n",
       "                       criterion='gini', max_depth=None, max_features='auto',\n",
       "                       max_leaf_nodes=None, max_samples=None,\n",
       "                       min_impurity_decrease=0.0, min_impurity_split=None,\n",
       "                       min_samples_leaf=1, min_samples_split=2,\n",
       "                       min_weight_fraction_leaf=0.0, n_estimators=100,\n",
       "                       n_jobs=None, oob_score=False, random_state=0, verbose=0,\n",
       "                       warm_start=False)"
      ]
     },
     "execution_count": 44,
     "metadata": {},
     "output_type": "execute_result"
    }
   ],
   "source": [
    "classifier.fit(x_train,y_train)"
   ]
  },
  {
   "cell_type": "code",
   "execution_count": 46,
   "id": "9b0b9b8d",
   "metadata": {},
   "outputs": [
    {
     "name": "stdout",
     "output_type": "stream",
     "text": [
      "1.0\n"
     ]
    }
   ],
   "source": [
    "print(classifier.score(x_train,y_train))"
   ]
  },
  {
   "cell_type": "code",
   "execution_count": 47,
   "id": "76ba2187",
   "metadata": {},
   "outputs": [],
   "source": [
    "y_pred = classifier.predict(x_test)"
   ]
  },
  {
   "cell_type": "code",
   "execution_count": 48,
   "id": "c50e9347",
   "metadata": {},
   "outputs": [],
   "source": [
    "from sklearn.metrics import accuracy_score\n",
    "\n",
    "score=accuracy_score(y_test,y_pred)"
   ]
  },
  {
   "cell_type": "code",
   "execution_count": 49,
   "id": "dd74b2f3",
   "metadata": {},
   "outputs": [
    {
     "data": {
      "text/plain": [
       "0.9933110367892977"
      ]
     },
     "execution_count": 49,
     "metadata": {},
     "output_type": "execute_result"
    }
   ],
   "source": [
    "score"
   ]
  },
  {
   "cell_type": "code",
   "execution_count": 50,
   "id": "2e132005",
   "metadata": {},
   "outputs": [],
   "source": [
    "from sklearn.metrics import classification_report\n",
    "\n",
    "report = classification_report(y_test,y_pred)"
   ]
  },
  {
   "cell_type": "code",
   "execution_count": 52,
   "id": "3ac94044",
   "metadata": {},
   "outputs": [
    {
     "name": "stdout",
     "output_type": "stream",
     "text": [
      "              precision    recall  f1-score   support\n",
      "\n",
      "           0       1.00      0.98      0.99       115\n",
      "           1       0.99      1.00      0.99       184\n",
      "\n",
      "    accuracy                           0.99       299\n",
      "   macro avg       0.99      0.99      0.99       299\n",
      "weighted avg       0.99      0.99      0.99       299\n",
      "\n"
     ]
    }
   ],
   "source": [
    "print(report)"
   ]
  },
  {
   "cell_type": "code",
   "execution_count": 54,
   "id": "0b290037",
   "metadata": {},
   "outputs": [
    {
     "data": {
      "text/plain": [
       "array([[113,   2],\n",
       "       [  0, 184]], dtype=int64)"
      ]
     },
     "execution_count": 54,
     "metadata": {},
     "output_type": "execute_result"
    }
   ],
   "source": [
    "from sklearn.metrics import confusion_matrix\n",
    "cm=confusion_matrix(y_test,y_pred)\n",
    "cm"
   ]
  },
  {
   "cell_type": "code",
   "execution_count": 56,
   "id": "000931b7",
   "metadata": {},
   "outputs": [
    {
     "data": {
      "image/png": "[encoded data removed]",
      "text/plain": [
       "<Figure size 500x500 with 2 Axes>"
      ]
     },
     "metadata": {},
     "output_type": "display_data"
    }
   ],
   "source": [
    "import seaborn as sns\n",
    "import matplotlib.pyplot as plt\n",
    "\n",
    "f, ax=plt.subplots(figsize=(5,5))\n",
    "sns.heatmap(cm,annot=True,linewidths=0.5,linecolor=\"red\",fmt=\".0f\",ax=ax)\n",
    "plt.title('Confusion Matrix')\n",
    "plt.ylabel('Actal Values')\n",
    "plt.xlabel('Predicted Values')\n",
    "\n",
    "plt.show()"
   ]
  },
  {
   "cell_type": "code",
   "execution_count": 58,
   "id": "9fdd7fba",
   "metadata": {},
   "outputs": [
    {
     "name": "stderr",
     "output_type": "stream",
     "text": [
      "C:\\Users\\Python Desk\\AppData\\Local\\Temp\\ipykernel_8120\\2327411972.py:3: UserWarning: \n",
      "\n",
      "`distplot` is a deprecated function and will be removed in seaborn v0.14.0.\n",
      "\n",
      "Please adapt your code to use either `displot` (a figure-level function with\n",
      "similar flexibility) or `histplot` (an axes-level function for histograms).\n",
      "\n",
      "For a guide to updating your code to use the new functions, please see\n",
      "https://gist.github.com/mwaskom/de44147ed2974457ad6372750bbe5751\n",
      "\n",
      "  sns.distplot(y_test,color='r')\n",
      "C:\\Users\\Python Desk\\AppData\\Local\\Temp\\ipykernel_8120\\2327411972.py:6: UserWarning: \n",
      "\n",
      "`distplot` is a deprecated function and will be removed in seaborn v0.14.0.\n",
      "\n",
      "Please adapt your code to use either `displot` (a figure-level function with\n",
      "similar flexibility) or `histplot` (an axes-level function for histograms).\n",
      "\n",
      "For a guide to updating your code to use the new functions, please see\n",
      "https://gist.github.com/mwaskom/de44147ed2974457ad6372750bbe5751\n",
      "\n",
      "  sns.distplot(y_pred,color='g')\n"
     ]
    },
    {
     "data": {
      "image/png": "[encoded data removed]",
      "text/plain": [
       "<Figure size 640x480 with 2 Axes>"
      ]
     },
     "metadata": {},
     "output_type": "display_data"
    }
   ],
   "source": [
    "sns.set_style('darkgrid')\n",
    "plt.subplot(1,2,1)\n",
    "sns.distplot(y_test,color='r')\n",
    "plt.title(\"y_test\")\n",
    "plt.subplot(1,2,2)\n",
    "sns.distplot(y_pred,color='g')\n",
    "plt.title(\"y_pred\")\n",
    "plt.show()  "
   ]
  },
  {
   "cell_type": "code",
   "execution_count": null,
   "id": "02d31b10",
   "metadata": {},
   "outputs": [],
   "source": [
    "import pickle\n",
    "\n",
    "pickle.dump(classifier, open(\"model.pkl\", \"wb\"))"
   ]
  }
 ],
 "metadata": {
  "kernelspec": {
   "display_name": "Python 3 (ipykernel)",
   "language": "python",
   "name": "python3"
  },
  "language_info": {
   "codemirror_mode": {
    "name": "ipython",
    "version": 3
   },
   "file_extension": ".py",
   "mimetype": "text/x-python",
   "name": "python",
   "nbconvert_exporter": "python",
   "pygments_lexer": "ipython3",
   "version": "3.8.16"
  }
 },
 "nbformat": 4,
 "nbformat_minor": 5
}
